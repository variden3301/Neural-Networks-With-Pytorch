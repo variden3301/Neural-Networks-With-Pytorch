{
 "cells": [
  {
   "cell_type": "code",
   "execution_count": 1,
   "metadata": {},
   "outputs": [],
   "source": [
    "import torch\n",
    "import torch.nn as nn\n",
    "import torch.optim as optim\n",
    "from torchvision import datasets, transforms\n",
    "from torch.utils.data import DataLoader\n",
    "import matplotlib.pyplot as plt\n"
   ]
  },
  {
   "cell_type": "code",
   "execution_count": 8,
   "metadata": {},
   "outputs": [],
   "source": [
    "from torch.utils.data import DataLoader\n",
    "from torchvision import datasets, transforms\n",
    "\n",
    "# Define a transform to normalize the data\n",
    "transform = transforms.Compose([transforms.ToTensor(),\n",
    "                                transforms.Normalize((0.5,), (0.5,))])\n",
    "\n",
    "# Download and load the training data\n",
    "trainset = datasets.MNIST('~/.pytorch/MNIST_data/', download=True, train=True, transform=transform)\n",
    "train_loader = DataLoader(trainset, batch_size=64, shuffle=True)\n",
    "\n",
    "# Download and load the test data\n",
    "testset = datasets.MNIST('~/.pytorch/MNIST_data/', download=True, train=False, transform=transform)\n",
    "test_loader = DataLoader(testset, batch_size=64, shuffle=True)\n",
    "\n",
    "train_losses = []\n",
    "test_losses = []\n"
   ]
  },
  {
   "cell_type": "code",
   "execution_count": 10,
   "metadata": {},
   "outputs": [
    {
     "name": "stdout",
     "output_type": "stream",
     "text": [
      "Epoch 1, Loss: 0.46158739924430847\n",
      "Epoch 2, Loss: 0.3280697464942932\n",
      "Epoch 3, Loss: 0.12477871775627136\n",
      "Epoch 4, Loss: 0.02383393608033657\n",
      "Epoch 5, Loss: 0.03214043006300926\n",
      "Epoch 6, Loss: 0.2649572491645813\n",
      "Epoch 7, Loss: 0.05666590481996536\n",
      "Epoch 8, Loss: 0.1161004900932312\n",
      "Epoch 9, Loss: 0.07301682233810425\n",
      "Epoch 10, Loss: 0.026977000758051872\n",
      "Accuracy on training set: 98.37\n",
      "Accuracy on test set: 98.10\n",
      "Corrected model saved to lenet5_corrected.pth\n"
     ]
    }
   ],
   "source": [
    "# Düzeltmeleri yaparak LeNet-5 modelini tekrar tanımlayalım ve eğitelim\n",
    "\n",
    "class LeNet5Corrected(nn.Module):\n",
    "    def __init__(self):\n",
    "        super(LeNet5Corrected, self).__init__()\n",
    "        self.conv1 = nn.Conv2d(1, 6, kernel_size=5, padding=2)\n",
    "        self.pool = nn.MaxPool2d(2, 2)\n",
    "        self.conv2 = nn.Conv2d(6, 16, 5)\n",
    "        self.fc1 = nn.Linear(16 * 5 * 5, 120)  # This might need to be adjusted\n",
    "        self.fc2 = nn.Linear(120, 84)\n",
    "        self.fc3 = nn.Linear(84, 10)\n",
    "\n",
    "    def forward(self, x):\n",
    "        x = self.pool(torch.relu(self.conv1(x)))\n",
    "        x = self.pool(torch.relu(self.conv2(x)))\n",
    "        x = x.view(x.size(0), -1)  # Flatten the tensor\n",
    "        x = torch.relu(self.fc1(x))\n",
    "        x = torch.relu(self.fc2(x))\n",
    "        x = self.fc3(x)\n",
    "        return x\n",
    "\n",
    "# Cihazı ayarlayın\n",
    "device = torch.device(\"cuda\" if torch.cuda.is_available() else \"cpu\")\n",
    "\n",
    "# Modeli, kayıp fonksiyonunu ve optimizatörü 'device' ile uyumlu hale getirin\n",
    "model_corrected = LeNet5Corrected().to(device)\n",
    "criterion_corrected = nn.CrossEntropyLoss()\n",
    "optimizer_corrected = optim.SGD(model_corrected.parameters(), lr=0.001, momentum=0.9)\n",
    "\n",
    "epochs = 10\n",
    "# Eğitim döngüsü\n",
    "for epoch in range(epochs):\n",
    "    for batch_idx, (data, targets) in enumerate(train_loader):\n",
    "        data, targets = data.to(device), targets.to(device)\n",
    "\n",
    "        # forward\n",
    "        scores = model_corrected(data)\n",
    "        loss = criterion_corrected(scores, targets)\n",
    "\n",
    "        # backward\n",
    "        optimizer_corrected.zero_grad()\n",
    "        loss.backward()\n",
    "\n",
    "        # gradient descent or adam step\n",
    "        optimizer_corrected.step()\n",
    "        test_losses.append(loss.item())\n",
    "\n",
    "    print(f'Epoch {epoch+1}, Loss: {loss.item()}')\n",
    "\n",
    "\n",
    "\n",
    "# Modelin doğruluğunu kontrol etme fonksiyonunu yeniden kullanalım\n",
    "def check_accuracy_corrected(loader, model):\n",
    "    num_correct = 0\n",
    "    num_samples = 0\n",
    "    model.eval()\n",
    "\n",
    "    with torch.no_grad():\n",
    "        for x, y in loader:\n",
    "            x = x.to(device=device)\n",
    "            y = y.to(device=device)\n",
    "\n",
    "            scores = model(x)\n",
    "            _, predictions = scores.max(1)\n",
    "            num_correct += (predictions == y).sum()\n",
    "            num_samples += predictions.size(0)\n",
    "\n",
    "    model.train()\n",
    "    return num_correct / num_samples\n",
    "\n",
    "train_acc = check_accuracy_corrected(train_loader, model_corrected)\n",
    "test_acc = check_accuracy_corrected(test_loader, model_corrected)\n",
    "print(f\"Accuracy on training set: {train_acc * 100:.2f}\")\n",
    "print(f\"Accuracy on test set: {test_acc * 100:.2f}\")\n",
    "\n",
    "# Modeli kaydedelim\n",
    "torch.save(model_corrected.state_dict(), 'lenet5_corrected.pth')\n",
    "print(\"Corrected model saved to lenet5_corrected.pth\")\n",
    "\n"
   ]
  },
  {
   "cell_type": "code",
   "execution_count": 12,
   "metadata": {},
   "outputs": [
    {
     "data": {
      "image/png": "[encoded data removed]",
      "text/plain": [
       "<Figure size 1200x400 with 1 Axes>"
      ]
     },
     "metadata": {},
     "output_type": "display_data"
    }
   ],
   "source": [
    "# Plotting\n",
    "plt.figure(figsize=(12, 4))\n",
    "plt.subplot(1, 2, 1)\n",
    "plt.plot(test_losses, label='Test Loss')\n",
    "plt.legend()\n",
    "plt.grid()\n",
    "plt.show()\n"
   ]
  }
 ],
 "metadata": {
  "kernelspec": {
   "display_name": "Python 3",
   "language": "python",
   "name": "python3"
  },
  "language_info": {
   "codemirror_mode": {
    "name": "ipython",
    "version": 3
   },
   "file_extension": ".py",
   "mimetype": "text/x-python",
   "name": "python",
   "nbconvert_exporter": "python",
   "pygments_lexer": "ipython3",
   "version": "3.12.2"
  }
 },
 "nbformat": 4,
 "nbformat_minor": 2
}
