{
 "cells": [
  {
   "cell_type": "code",
   "execution_count": 1,
   "metadata": {},
   "outputs": [],
   "source": [
    "import torch\n",
    "import torch.nn as nn\n",
    "import torch.optim as optim\n",
    "from torchvision import datasets, transforms\n",
    "from torch.utils.data import DataLoader\n",
    "import matplotlib.pyplot as plt\n",
    "\n"
   ]
  },
  {
   "cell_type": "code",
   "execution_count": 2,
   "metadata": {},
   "outputs": [],
   "source": [
    "\n",
    "\n",
    "# MLP model sınıfını tanımlayalım\n",
    "class MLP(nn.Module):\n",
    "    def __init__(self):\n",
    "        super(MLP, self).__init__()\n",
    "        # 28x28 = 784 piksel giriş, iki gizli katman ve 10 sınıflı çıktı için katmanlar\n",
    "        self.model = nn.Sequential(\n",
    "            nn.Linear(784, 256),\n",
    "            nn.ReLU(),\n",
    "            nn.Linear(256, 128),\n",
    "            nn.ReLU(),\n",
    "            nn.Linear(128, 64),\n",
    "            nn.ReLU(),\n",
    "            nn.Linear(64, 10)\n",
    "        )\n",
    "    \n",
    "    def forward(self, x):\n",
    "        # Girişi düzleştirmemiz gerekiyor, çünkü başlangıçta 28x28 bir görüntü var\n",
    "        x = x.view(x.size(0), -1)\n",
    "        return self.model(x)\n",
    "    \n"
   ]
  },
  {
   "cell_type": "code",
   "execution_count": 3,
   "metadata": {},
   "outputs": [
    {
     "name": "stdout",
     "output_type": "stream",
     "text": [
      "Downloading http://yann.lecun.com/exdb/mnist/train-images-idx3-ubyte.gz\n"
     ]
    },
    {
     "name": "stderr",
     "output_type": "stream",
     "text": [
      "1.0%"
     ]
    },
    {
     "name": "stdout",
     "output_type": "stream",
     "text": [
      "Downloading http://yann.lecun.com/exdb/mnist/train-images-idx3-ubyte.gz to ./data\\MNIST\\raw\\train-images-idx3-ubyte.gz\n"
     ]
    },
    {
     "name": "stderr",
     "output_type": "stream",
     "text": [
      "100.0%\n"
     ]
    },
    {
     "name": "stdout",
     "output_type": "stream",
     "text": [
      "Extracting ./data\\MNIST\\raw\\train-images-idx3-ubyte.gz to ./data\\MNIST\\raw\n",
      "\n",
      "Downloading http://yann.lecun.com/exdb/mnist/train-labels-idx1-ubyte.gz\n"
     ]
    },
    {
     "name": "stderr",
     "output_type": "stream",
     "text": [
      "100.0%"
     ]
    },
    {
     "name": "stdout",
     "output_type": "stream",
     "text": [
      "Downloading http://yann.lecun.com/exdb/mnist/train-labels-idx1-ubyte.gz to ./data\\MNIST\\raw\\train-labels-idx1-ubyte.gz\n",
      "Extracting ./data\\MNIST\\raw\\train-labels-idx1-ubyte.gz to ./data\\MNIST\\raw\n",
      "\n",
      "Downloading http://yann.lecun.com/exdb/mnist/t10k-images-idx3-ubyte.gz\n"
     ]
    },
    {
     "name": "stderr",
     "output_type": "stream",
     "text": [
      "\n",
      "7.9%"
     ]
    },
    {
     "name": "stdout",
     "output_type": "stream",
     "text": [
      "Downloading http://yann.lecun.com/exdb/mnist/t10k-images-idx3-ubyte.gz to ./data\\MNIST\\raw\\t10k-images-idx3-ubyte.gz\n"
     ]
    },
    {
     "name": "stderr",
     "output_type": "stream",
     "text": [
      "100.0%\n"
     ]
    },
    {
     "name": "stdout",
     "output_type": "stream",
     "text": [
      "Extracting ./data\\MNIST\\raw\\t10k-images-idx3-ubyte.gz to ./data\\MNIST\\raw\n",
      "\n",
      "Downloading http://yann.lecun.com/exdb/mnist/t10k-labels-idx1-ubyte.gz\n",
      "Downloading http://yann.lecun.com/exdb/mnist/t10k-labels-idx1-ubyte.gz to ./data\\MNIST\\raw\\t10k-labels-idx1-ubyte.gz\n"
     ]
    },
    {
     "name": "stderr",
     "output_type": "stream",
     "text": [
      "100.0%\n"
     ]
    },
    {
     "name": "stdout",
     "output_type": "stream",
     "text": [
      "Extracting ./data\\MNIST\\raw\\t10k-labels-idx1-ubyte.gz to ./data\\MNIST\\raw\n",
      "\n",
      "Training loss: 0.8962654064236674\n",
      "Training loss: 0.29356765789168476\n",
      "Training loss: 0.21343139080064638\n",
      "Training loss: 0.16602620939368695\n",
      "Training loss: 0.13365533215992614\n",
      "Accuracy of the network on the 10000 test images: 98 %\n",
      "Accuracy of the network on the 10000 test images: 97 %\n",
      "Accuracy of the network on the 10000 test images: 97 %\n",
      "Accuracy of the network on the 10000 test images: 96 %\n",
      "Accuracy of the network on the 10000 test images: 96 %\n",
      "Accuracy of the network on the 10000 test images: 95 %\n",
      "Accuracy of the network on the 10000 test images: 95 %\n",
      "Accuracy of the network on the 10000 test images: 95 %\n",
      "Accuracy of the network on the 10000 test images: 95 %\n",
      "Accuracy of the network on the 10000 test images: 95 %\n",
      "Accuracy of the network on the 10000 test images: 95 %\n",
      "Accuracy of the network on the 10000 test images: 95 %\n",
      "Accuracy of the network on the 10000 test images: 95 %\n",
      "Accuracy of the network on the 10000 test images: 95 %\n",
      "Accuracy of the network on the 10000 test images: 95 %\n",
      "Accuracy of the network on the 10000 test images: 95 %\n",
      "Accuracy of the network on the 10000 test images: 94 %\n",
      "Accuracy of the network on the 10000 test images: 94 %\n",
      "Accuracy of the network on the 10000 test images: 94 %\n",
      "Accuracy of the network on the 10000 test images: 94 %\n",
      "Accuracy of the network on the 10000 test images: 94 %\n",
      "Accuracy of the network on the 10000 test images: 94 %\n",
      "Accuracy of the network on the 10000 test images: 94 %\n",
      "Accuracy of the network on the 10000 test images: 94 %\n",
      "Accuracy of the network on the 10000 test images: 94 %\n",
      "Accuracy of the network on the 10000 test images: 94 %\n",
      "Accuracy of the network on the 10000 test images: 94 %\n",
      "Accuracy of the network on the 10000 test images: 93 %\n",
      "Accuracy of the network on the 10000 test images: 93 %\n",
      "Accuracy of the network on the 10000 test images: 94 %\n",
      "Accuracy of the network on the 10000 test images: 94 %\n",
      "Accuracy of the network on the 10000 test images: 93 %\n",
      "Accuracy of the network on the 10000 test images: 93 %\n",
      "Accuracy of the network on the 10000 test images: 93 %\n",
      "Accuracy of the network on the 10000 test images: 93 %\n",
      "Accuracy of the network on the 10000 test images: 93 %\n",
      "Accuracy of the network on the 10000 test images: 93 %\n",
      "Accuracy of the network on the 10000 test images: 93 %\n",
      "Accuracy of the network on the 10000 test images: 93 %\n",
      "Accuracy of the network on the 10000 test images: 93 %\n",
      "Accuracy of the network on the 10000 test images: 93 %\n",
      "Accuracy of the network on the 10000 test images: 94 %\n",
      "Accuracy of the network on the 10000 test images: 94 %\n",
      "Accuracy of the network on the 10000 test images: 94 %\n",
      "Accuracy of the network on the 10000 test images: 94 %\n",
      "Accuracy of the network on the 10000 test images: 94 %\n",
      "Accuracy of the network on the 10000 test images: 94 %\n",
      "Accuracy of the network on the 10000 test images: 94 %\n",
      "Accuracy of the network on the 10000 test images: 94 %\n",
      "Accuracy of the network on the 10000 test images: 94 %\n",
      "Accuracy of the network on the 10000 test images: 94 %\n",
      "Accuracy of the network on the 10000 test images: 94 %\n",
      "Accuracy of the network on the 10000 test images: 94 %\n",
      "Accuracy of the network on the 10000 test images: 94 %\n",
      "Accuracy of the network on the 10000 test images: 94 %\n",
      "Accuracy of the network on the 10000 test images: 94 %\n",
      "Accuracy of the network on the 10000 test images: 94 %\n",
      "Accuracy of the network on the 10000 test images: 94 %\n",
      "Accuracy of the network on the 10000 test images: 94 %\n",
      "Accuracy of the network on the 10000 test images: 94 %\n",
      "Accuracy of the network on the 10000 test images: 94 %\n",
      "Accuracy of the network on the 10000 test images: 94 %\n",
      "Accuracy of the network on the 10000 test images: 94 %\n",
      "Accuracy of the network on the 10000 test images: 94 %\n",
      "Accuracy of the network on the 10000 test images: 94 %\n",
      "Accuracy of the network on the 10000 test images: 94 %\n",
      "Accuracy of the network on the 10000 test images: 94 %\n",
      "Accuracy of the network on the 10000 test images: 94 %\n",
      "Accuracy of the network on the 10000 test images: 94 %\n",
      "Accuracy of the network on the 10000 test images: 94 %\n",
      "Accuracy of the network on the 10000 test images: 94 %\n",
      "Accuracy of the network on the 10000 test images: 94 %\n",
      "Accuracy of the network on the 10000 test images: 94 %\n",
      "Accuracy of the network on the 10000 test images: 94 %\n",
      "Accuracy of the network on the 10000 test images: 94 %\n",
      "Accuracy of the network on the 10000 test images: 94 %\n",
      "Accuracy of the network on the 10000 test images: 94 %\n",
      "Accuracy of the network on the 10000 test images: 94 %\n",
      "Accuracy of the network on the 10000 test images: 94 %\n",
      "Accuracy of the network on the 10000 test images: 94 %\n",
      "Accuracy of the network on the 10000 test images: 94 %\n",
      "Accuracy of the network on the 10000 test images: 94 %\n",
      "Accuracy of the network on the 10000 test images: 94 %\n",
      "Accuracy of the network on the 10000 test images: 94 %\n",
      "Accuracy of the network on the 10000 test images: 94 %\n",
      "Accuracy of the network on the 10000 test images: 94 %\n",
      "Accuracy of the network on the 10000 test images: 94 %\n",
      "Accuracy of the network on the 10000 test images: 94 %\n",
      "Accuracy of the network on the 10000 test images: 94 %\n",
      "Accuracy of the network on the 10000 test images: 94 %\n",
      "Accuracy of the network on the 10000 test images: 94 %\n",
      "Accuracy of the network on the 10000 test images: 94 %\n",
      "Accuracy of the network on the 10000 test images: 94 %\n",
      "Accuracy of the network on the 10000 test images: 94 %\n",
      "Accuracy of the network on the 10000 test images: 94 %\n",
      "Accuracy of the network on the 10000 test images: 94 %\n",
      "Accuracy of the network on the 10000 test images: 94 %\n",
      "Accuracy of the network on the 10000 test images: 94 %\n",
      "Accuracy of the network on the 10000 test images: 94 %\n",
      "Accuracy of the network on the 10000 test images: 94 %\n",
      "Accuracy of the network on the 10000 test images: 94 %\n",
      "Accuracy of the network on the 10000 test images: 94 %\n",
      "Accuracy of the network on the 10000 test images: 94 %\n",
      "Accuracy of the network on the 10000 test images: 94 %\n",
      "Accuracy of the network on the 10000 test images: 94 %\n",
      "Accuracy of the network on the 10000 test images: 94 %\n",
      "Accuracy of the network on the 10000 test images: 94 %\n",
      "Accuracy of the network on the 10000 test images: 94 %\n",
      "Accuracy of the network on the 10000 test images: 94 %\n",
      "Accuracy of the network on the 10000 test images: 95 %\n",
      "Accuracy of the network on the 10000 test images: 95 %\n",
      "Accuracy of the network on the 10000 test images: 95 %\n",
      "Accuracy of the network on the 10000 test images: 95 %\n",
      "Accuracy of the network on the 10000 test images: 95 %\n",
      "Accuracy of the network on the 10000 test images: 95 %\n",
      "Accuracy of the network on the 10000 test images: 95 %\n",
      "Accuracy of the network on the 10000 test images: 95 %\n",
      "Accuracy of the network on the 10000 test images: 95 %\n",
      "Accuracy of the network on the 10000 test images: 95 %\n",
      "Accuracy of the network on the 10000 test images: 95 %\n",
      "Accuracy of the network on the 10000 test images: 95 %\n",
      "Accuracy of the network on the 10000 test images: 95 %\n",
      "Accuracy of the network on the 10000 test images: 95 %\n",
      "Accuracy of the network on the 10000 test images: 95 %\n",
      "Accuracy of the network on the 10000 test images: 95 %\n",
      "Accuracy of the network on the 10000 test images: 95 %\n",
      "Accuracy of the network on the 10000 test images: 95 %\n",
      "Accuracy of the network on the 10000 test images: 95 %\n",
      "Accuracy of the network on the 10000 test images: 95 %\n",
      "Accuracy of the network on the 10000 test images: 95 %\n",
      "Accuracy of the network on the 10000 test images: 95 %\n",
      "Accuracy of the network on the 10000 test images: 95 %\n",
      "Accuracy of the network on the 10000 test images: 95 %\n",
      "Accuracy of the network on the 10000 test images: 95 %\n",
      "Accuracy of the network on the 10000 test images: 95 %\n",
      "Accuracy of the network on the 10000 test images: 95 %\n",
      "Accuracy of the network on the 10000 test images: 95 %\n",
      "Accuracy of the network on the 10000 test images: 95 %\n",
      "Accuracy of the network on the 10000 test images: 95 %\n",
      "Accuracy of the network on the 10000 test images: 95 %\n",
      "Accuracy of the network on the 10000 test images: 95 %\n",
      "Accuracy of the network on the 10000 test images: 95 %\n",
      "Accuracy of the network on the 10000 test images: 95 %\n",
      "Accuracy of the network on the 10000 test images: 95 %\n",
      "Accuracy of the network on the 10000 test images: 95 %\n",
      "Accuracy of the network on the 10000 test images: 95 %\n",
      "Accuracy of the network on the 10000 test images: 95 %\n",
      "Accuracy of the network on the 10000 test images: 95 %\n",
      "Accuracy of the network on the 10000 test images: 95 %\n",
      "Accuracy of the network on the 10000 test images: 95 %\n",
      "Accuracy of the network on the 10000 test images: 95 %\n",
      "Accuracy of the network on the 10000 test images: 95 %\n",
      "Accuracy of the network on the 10000 test images: 95 %\n",
      "Accuracy of the network on the 10000 test images: 95 %\n",
      "Accuracy of the network on the 10000 test images: 95 %\n",
      "Accuracy of the network on the 10000 test images: 95 %\n",
      "Accuracy of the network on the 10000 test images: 95 %\n"
     ]
    }
   ],
   "source": [
    "\n",
    "\n",
    "# Veri yükleme için dönüşümleri ayarlayalım\n",
    "transform = transforms.Compose([\n",
    "    transforms.ToTensor(),\n",
    "    transforms.Normalize((0.5,), (0.5,))  # Gri tonlamalı görüntüler için normalize etme\n",
    "])\n",
    "\n",
    "# Eğitim ve test veri setlerini yükleyelim\n",
    "trainset = datasets.MNIST(root='./data', train=True, download=True, transform=transform)\n",
    "testset = datasets.MNIST(root='./data', train=False, download=True, transform=transform)\n",
    "\n",
    "# Veri yükleyicileri oluşturalım\n",
    "trainloader = DataLoader(trainset, batch_size=64, shuffle=True)\n",
    "testloader = DataLoader(testset, batch_size=64, shuffle=False)\n",
    "\n",
    "# Initialize lists to monitor test loss and accuracy\n",
    "train_losses = []\n",
    "test_accuracies = []\n",
    "\n",
    "\n",
    "\n",
    "# Modeli ve eğitim parametrelerini ayarlayalım\n",
    "model = MLP()\n",
    "criterion = nn.CrossEntropyLoss()\n",
    "optimizer = optim.SGD(model.parameters(), lr=0.003, momentum=0.9)\n",
    "\n",
    "# Training loop\n",
    "epochs = 5\n",
    "for e in range(epochs):\n",
    "    running_loss = 0\n",
    "    for images, labels in trainloader:\n",
    "        # Forward pass\n",
    "        outputs = model(images)\n",
    "        loss = criterion(outputs, labels)\n",
    "        \n",
    "        # Backward and optimize\n",
    "        optimizer.zero_grad()\n",
    "        loss.backward()\n",
    "        optimizer.step()\n",
    "        \n",
    "        running_loss += loss.item()\n",
    "    else:\n",
    "        train_losses.append(running_loss/len(trainloader))\n",
    "        print(f\"Training loss: {running_loss/len(trainloader)}\")\n",
    "\n",
    "\n",
    "# Test loop\n",
    "correct = 0\n",
    "total = 0\n",
    "with torch.no_grad():\n",
    "    for images, labels in testloader:\n",
    "        outputs = model(images)\n",
    "        _, predicted = torch.max(outputs.data, 1)\n",
    "        total += labels.size(0)\n",
    "        correct += (predicted == labels).sum().item()\n",
    "\n",
    "        accuracy = 100 * correct // total\n",
    "        test_accuracies.append(accuracy)\n",
    "        print(f'Accuracy of the network on the 10000 test images: {accuracy} %')\n"
   ]
  },
  {
   "cell_type": "code",
   "execution_count": 4,
   "metadata": {},
   "outputs": [
    {
     "data": {
      "image/png": "[encoded data removed]",
      "text/plain": [
       "<Figure size 1200x400 with 2 Axes>"
      ]
     },
     "metadata": {},
     "output_type": "display_data"
    }
   ],
   "source": [
    "# Plotting\n",
    "plt.figure(figsize=(12, 4))\n",
    "plt.subplot(1, 2, 1)\n",
    "plt.plot(train_losses, label='Training Loss')\n",
    "plt.legend()\n",
    "plt.grid()\n",
    "\n",
    "plt.subplot(1, 2, 2)\n",
    "plt.plot(test_accuracies, label='Test Accuracy')\n",
    "plt.legend()\n",
    "plt.grid()\n",
    "plt.show()"
   ]
  }
 ],
 "metadata": {
  "kernelspec": {
   "display_name": "Python 3",
   "language": "python",
   "name": "python3"
  },
  "language_info": {
   "codemirror_mode": {
    "name": "ipython",
    "version": 3
   },
   "file_extension": ".py",
   "mimetype": "text/x-python",
   "name": "python",
   "nbconvert_exporter": "python",
   "pygments_lexer": "ipython3",
   "version": "3.11.8"
  }
 },
 "nbformat": 4,
 "nbformat_minor": 2
}
