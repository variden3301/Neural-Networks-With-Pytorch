{
  "nbformat": 4,
  "nbformat_minor": 0,
  "metadata": {
    "colab": {
      "provenance": []
    },
    "kernelspec": {
      "name": "python3",
      "display_name": "Python 3"
    },
    "language_info": {
      "name": "python"
    }
  },
  "cells": [
    {
      "cell_type": "markdown",
      "source": [
        "#COMP 4437 Project Helper Codes"
      ],
      "metadata": {
        "id": "vpf6GzpPDVMf"
      }
    },
    {
      "cell_type": "markdown",
      "source": [
        "# How to Use GPU in Google Colab with PyTorch\n",
        "\n",
        "Google Colab provides free access to GPUs, which can significantly speed up your computations when using PyTorch. Follow these steps to enable and verify GPU usage in your Colab notebook.\n",
        "\n",
        "## 1. Enable GPU\n",
        "\n",
        "To enable GPU for your Colab notebook:\n",
        "\n",
        "1. Click on the **Runtime** menu at the top.\n",
        "2. Select **Change runtime type**.\n",
        "3. In the popup, under **Hardware accelerator**, select **GPU**.\n",
        "4. Click **Save**.\n",
        "\n",
        "Now your Colab notebook is set to use a GPU.\n",
        "\n",
        "## 2. Verify GPU Usage with PyTorch\n",
        "\n",
        "To check if your notebook is using a GPU with PyTorch, you can run the following code:\n",
        "\n",
        "```python\n",
        "import torch\n",
        "\n",
        "# Check if CUDA (GPU support) is available\n",
        "if torch.cuda.is_available():\n",
        "    print('GPU is available')\n",
        "    print('Device name:', torch.cuda.get_device_name(0))\n",
        "else:\n",
        "    print(\"No GPU found\")\n"
      ],
      "metadata": {
        "id": "WcpTTHwx5wQ5"
      }
    },
    {
      "cell_type": "markdown",
      "source": [
        "## Unzipping a File in Google Colab and Using Its Contents\n",
        "Make sure you unzip your files into **disk space in Colab** for faster training. Reading images from the drive will slow your training significantly\n",
        "### Step 1: Upload the Zip File\n",
        "- Manually upload the zip file to Colab:\n",
        "  - Click on the folder icon on the left side.\n",
        "  - Click the upload button (upward arrow icon).\n",
        "  - Select the zip file from your local machine.\n",
        "\n",
        "### Step 2: Unzip the File\n",
        "- Use the following command in a code cell to unzip the file:\n",
        "\n",
        "  ```python\n",
        "  !unzip -q example.zip\n"
      ],
      "metadata": {
        "id": "nnvG6FywcTld"
      }
    },
    {
      "cell_type": "markdown",
      "source": [
        "\n",
        "# Example Usage of Custom Dataset and Utility Functions\n",
        "\n",
        "This example demonstrates how to use the `CelebCariDataset`, `CelebCariTestDataset`, and various utility functions provided in `helper.py` for loading, processing, and evaluating images of celebrities in different caricature styles.\n",
        "<br>\n",
        "For you to test there is a mini train and test folder. Run this code with the path of the example files.\n",
        "\n",
        "## Steps Covered:\n",
        "1. **Define a Dummy Model**: A simple neural network model for demonstration.\n",
        "2. **Create Dataset Instances**: Using `CelebCariDataset` for training data and `CelebCariTestDataset` for test data.\n",
        "3. **Generate and Save Embeddings**: Create embeddings for the training dataset and save them to a JSON file.\n",
        "4. **Load Embeddings**: Read the saved embeddings from the JSON file.\n",
        "5. **Simulate Predictions**: Generate dummy predictions and write them to a JSON file."
      ],
      "metadata": {
        "id": "JexYaJ_lldC8"
      }
    },
    {
      "cell_type": "code",
      "source": [
        "import torch\n",
        "import torch.nn as nn\n",
        "from torchvision import transforms\n",
        "from helper import (CelebCariDataset, CelebCariTestDataset, calculate_accuracy, save_gallery_to_json,\n",
        "                    create_gallery_embeddings, read_gallery_from_json, encode_embedding, write_predictions_to_json)\n",
        "\n",
        "# Define a simple dummy model for demonstration purposes\n",
        "class DummyModel(nn.Module):\n",
        "    def __init__(self):\n",
        "        super(DummyModel, self).__init__()\n",
        "        self.flatten = nn.Flatten()\n",
        "        self.fc = nn.Linear(3 * 128 * 128, 128)\n",
        "\n",
        "    def forward(self, x):\n",
        "        x = self.flatten(x)\n",
        "        embeddings = self.fc(x)\n",
        "        return embeddings, None, None\n",
        "\n",
        "# Instantiate the model and set device\n",
        "device = torch.device(\"cuda\" if torch.cuda.is_available() else \"cpu\")\n",
        "model = DummyModel().to(device)\n",
        "\n",
        "# Define transformations\n",
        "transform = transforms.Compose([\n",
        "    transforms.Resize((128, 128)),\n",
        "    transforms.ToTensor()\n",
        "])\n",
        "\n",
        "# Create a training dataset instance\n",
        "train_dataset = CelebCariDataset(root_dir='path_to_train_dataset', transform=transform)\n",
        "\n",
        "# Generate gallery embeddings\n",
        "gallery_embeddings = create_gallery_embeddings(model, train_dataset, device)\n",
        "\n",
        "# Save gallery embeddings to a JSON file\n",
        "save_gallery_to_json(gallery_embeddings, 'gallery_embeddings.json')\n",
        "\n",
        "# Load gallery embeddings from the JSON file\n",
        "loaded_gallery_embeddings = read_gallery_from_json('gallery_embeddings.json')\n",
        "\n",
        "# Create a test dataset instance\n",
        "test_dataset = CelebCariTestDataset(root_dir='path_to_test_dataset', transform=transform)\n",
        "\n",
        "# Simulate predictions (using dummy values)\n",
        "dummy_predictions = [\n",
        "    ('image1.jpg', torch.randn(128), 'style1'),\n",
        "    ('image2.jpg', torch.randn(128), 'style2')\n",
        "]\n",
        "\n",
        "# Write predictions to a JSON file\n",
        "write_predictions_to_json(dummy_predictions, 'predictions.json')\n",
        "\n",
        "# Load some test data and make predictions (dummy values for illustration)\n",
        "test_loader = torch.utils.data.DataLoader(test_dataset, batch_size=32, shuffle=False)\n",
        "\n",
        "model.eval()\n",
        "predictions = []\n",
        "with torch.no_grad():\n",
        "    for inputs, image_paths in test_loader:\n",
        "        inputs = inputs.to(device)\n",
        "        embeddings, _, _ = model(inputs)\n",
        "        for embedding, image_path in zip(embeddings, image_paths):\n",
        "            predictions.append((image_path, embedding, 'dummy_style'))\n",
        "\n",
        "# Write predictions to a JSON file\n",
        "write_predictions_to_json(predictions, 'test_predictions.json')\n"
      ],
      "metadata": {
        "id": "gLuZ1a74lhfn"
      },
      "execution_count": null,
      "outputs": []
    }
  ]
}